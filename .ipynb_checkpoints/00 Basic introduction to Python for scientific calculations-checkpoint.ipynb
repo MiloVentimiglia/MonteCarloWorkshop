{
 "cells": [
  {
   "cell_type": "markdown",
   "metadata": {
    "slideshow": {
     "slide_type": "slide"
    }
   },
   "source": [
    "# Basic introduction to Python for scientific calculations"
   ]
  },
  {
   "cell_type": "markdown",
   "metadata": {
    "slideshow": {
     "slide_type": "slide"
    }
   },
   "source": [
    "Python is organised in packages, modules and functions in that hierarchical order."
   ]
  },
  {
   "cell_type": "markdown",
   "metadata": {
    "slideshow": {
     "slide_type": "fragment"
    }
   },
   "source": [
    "The most important Python packages for scientific calculations are **numpy** and **scipy**. The basic package for generating scientific plots is **matplotlib**."
   ]
  },
  {
   "cell_type": "markdown",
   "metadata": {
    "slideshow": {
     "slide_type": "fragment"
    }
   },
   "source": [
    "Python packages typically contain several modules, where each module is a separate file with file ending \".py\". For instance, **scipy** contains the module **stats** and **matplotlib** the module **pyplot**."
   ]
  },
  {
   "cell_type": "markdown",
   "metadata": {
    "slideshow": {
     "slide_type": "fragment"
    }
   },
   "source": [
    "Each module can contain several functions.\n"
   ]
  },
  {
   "cell_type": "markdown",
   "metadata": {
    "slideshow": {
     "slide_type": "slide"
    }
   },
   "source": [
    "A Python program starts with an import of the required modules such as\n",
    "\n",
    "```python\n",
    "    import numpy as np\n",
    "    from scipy.stats import normal\n",
    "    import matplotlib.pyplot as plt\n",
    "```\n"
   ]
  },
  {
   "cell_type": "markdown",
   "metadata": {
    "slideshow": {
     "slide_type": "subslide"
    }
   },
   "source": [
    "* When a function is imported (such as _normal_ above) it can be used by its name.\n",
    "* When a module is imported, then its functions are used by appending a \".\" and the function's name to the module name\n",
    "``` python\n",
    "    np.sqrt()\n",
    "```\n",
    "* When the sought function is located in a sub-module, the \".\" notation can be used again\n",
    "``` python\n",
    "    np.linalg.lstsq()\n",
    "```"
   ]
  },
  {
   "cell_type": "markdown",
   "metadata": {
    "slideshow": {
     "slide_type": "subslide"
    }
   },
   "source": [
    "Functions in Python can have necessary and optional arguments. Optional arguments are defined by keyword, that is their name in the function call.\n",
    "\n",
    "``` python\n",
    "    normal.pdf(x, loc = 0, scale = 1)\n",
    "```\n",
    "\n",
    "Keyword arguments are used to define default values for arguments that can be changed by the user."
   ]
  },
  {
   "cell_type": "markdown",
   "metadata": {
    "slideshow": {
     "slide_type": "slide"
    }
   },
   "source": [
    "### Vectors and matrices\n",
    "\n",
    "The Python package **numpy** contains several powerful tools for efficient matrix-vector algebra."
   ]
  },
  {
   "cell_type": "markdown",
   "metadata": {
    "slideshow": {
     "slide_type": "fragment"
    }
   },
   "source": [
    "A vector in Python is a numpy array:\n",
    "``` python\n",
    "   import numpy as np\n",
    "   vec = np.array( [ 1, 2, 3 ] )\n",
    "```"
   ]
  },
  {
   "cell_type": "markdown",
   "metadata": {
    "slideshow": {
     "slide_type": "fragment"
    }
   },
   "source": [
    "Similarly, a matrix is a two-dimensional numpy array:\n",
    "``` python\n",
    "   mat = np.array( [ [1, 2, 3], [1, 4, 9], [1, 8, 27] ] )\n",
    "```"
   ]
  },
  {
   "cell_type": "markdown",
   "metadata": {
    "slideshow": {
     "slide_type": "subslide"
    }
   },
   "source": [
    "Calculations with matrices and vectors are implemented easily:\n",
    "\n",
    "* addition and subtraction\n",
    "```python \n",
    "    vec + vec   \n",
    "    vec - vec\n",
    "```\n",
    "\n",
    "* element-wise multiplication and division\n",
    "```python\n",
    "    vec * vec\n",
    "    vec / vec\n",
    "```\n",
    "\n",
    "* matrix transpose\n",
    "```python\n",
    "    transposed = mat.T\n",
    "```"
   ]
  },
  {
   "cell_type": "markdown",
   "metadata": {
    "slideshow": {
     "slide_type": "subslide"
    }
   },
   "source": [
    "Special vector and matrix algebra are built-in numpy functions\n",
    "\n",
    "* inner product\n",
    "```python\n",
    "    vec1.dot( vec )\n",
    "    mat.dot( vec )\n",
    "```\n",
    "\n",
    "* matrix inverse\n",
    "```python\n",
    "    np.linalg.inverse(mat)\n",
    "```\n",
    "\n",
    "* product of matrix inverse and another matrix\n",
    "```python\n",
    "    np.linalg.solve(mat1, mat2)\n",
    "```\n",
    "\n",
    "* matrix rank\n",
    "```python\n",
    "    np.linalg.matrix_rank(mat)\n",
    "```"
   ]
  },
  {
   "cell_type": "markdown",
   "metadata": {
    "slideshow": {
     "slide_type": "subslide"
    }
   },
   "source": [
    "Indexing into a vector\n",
    "\n",
    "* indexing in Python starts at $0$\n",
    "* ranges can be obtained using $:$\n",
    "\n",
    "``` python\n",
    "    v = np.array([1,2,3,4,5,6])\n",
    "    v[3] = 4\n",
    "    v[1:5] = np.array([2,3,4,5])\n",
    "    v[:3] = np.array([1,2,3])\n",
    "    v[-1] = 6\n",
    "```"
   ]
  },
  {
   "cell_type": "markdown",
   "metadata": {
    "slideshow": {
     "slide_type": "subslide"
    }
   },
   "source": [
    "\n",
    "* matrices are indexed as\n",
    "``` python\n",
    "    mat[2,3]\n",
    "    mat[:3,2:4]\n",
    "```\n",
    "\n",
    "* fancy indexing also works\n",
    "``` python\n",
    "    v = np.array([2,3,4,5])\n",
    "    w = np.array([11,12,13,14])\n",
    "    w[v>3] = np.array([13,14])\n",
    "```"
   ]
  },
  {
   "cell_type": "markdown",
   "metadata": {
    "slideshow": {
     "slide_type": "subslide"
    }
   },
   "source": [
    "Some special arrays can be generated using built-in numpy functions\n",
    "\n",
    "* array containing all zeros or ones\n",
    "```python\n",
    "    mat = np.ones( (100, 10) )\n",
    "    vec = np.zeros(100)\n",
    "    complex_mat = np.zeros( (20, 20), dtype=complex )\n",
    "```"
   ]
  },
  {
   "cell_type": "markdown",
   "metadata": {
    "slideshow": {
     "slide_type": "slide"
    }
   },
   "source": [
    "### Plotting\n",
    "\n",
    "The **matplotlib.pyplot** package contains several functions for basic plotting tasks. Its syntax is very similar to that of Matlab.\n",
    "\n"
   ]
  },
  {
   "cell_type": "markdown",
   "metadata": {
    "slideshow": {
     "slide_type": "subslide"
    }
   },
   "source": [
    "``` python\n",
    "    import matplotlib.pyplot as plt\n",
    "    \n",
    "    plt.figure(1)\n",
    "    plt.plot(time, signal, label=\"my signal\")\n",
    "    plt.legend(loc=\"upper left\")\n",
    "    plt.xlabel(\"x axis\")\n",
    "    plt.ylabel(\"y axis\")\n",
    "    \n",
    "    plt.figure(2)\n",
    "    plt.hist(signal, bins=100)\n",
    "    plt.title(\"histogram of values in signal\")\n",
    "```"
   ]
  }
 ],
 "metadata": {
  "kernelspec": {
   "display_name": "Python 3",
   "language": "python",
   "name": "python3"
  },
  "language_info": {
   "codemirror_mode": {
    "name": "ipython",
    "version": 3
   },
   "file_extension": ".py",
   "mimetype": "text/x-python",
   "name": "python",
   "nbconvert_exporter": "python",
   "pygments_lexer": "ipython3",
   "version": "3.5.1"
  }
 },
 "nbformat": 4,
 "nbformat_minor": 0
}
