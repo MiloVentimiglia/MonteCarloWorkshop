{
 "cells": [
  {
   "cell_type": "code",
   "execution_count": 1,
   "metadata": {
    "collapsed": false,
    "slideshow": {
     "slide_type": "skip"
    }
   },
   "outputs": [
    {
     "name": "stdout",
     "output_type": "stream",
     "text": [
      "Populating the interactive namespace from numpy and matplotlib\n"
     ]
    }
   ],
   "source": [
    "%pylab inline\n",
    "pylab.rcParams['figure.figsize'] = (16.0, 8.0)"
   ]
  },
  {
   "cell_type": "markdown",
   "metadata": {
    "slideshow": {
     "slide_type": "slide"
    }
   },
   "source": [
    "# Adaptive determination of Monte Carlo trials"
   ]
  },
  {
   "cell_type": "markdown",
   "metadata": {
    "slideshow": {
     "slide_type": "subslide"
    }
   },
   "source": [
    "The Monte Carlo outcome is based on **random** draws from the joint probability distribution associated with the input quantities. Thus, the outcome and every statistics derived are **random**."
   ]
  },
  {
   "cell_type": "markdown",
   "metadata": {
    "slideshow": {
     "slide_type": "subslide"
    }
   },
   "source": [
    "### Exercise 5.1\n",
    "\n",
    "For the model function \n",
    "$$ Y = f(X_1,X_2,X_3) = X_1 + X_2 + X_3 $$\n",
    "with independent input quantities for which knowledge is encoded as\n",
    "\n",
    "- $X_1$: Gamma distribution with scale parameter $a=1.5$\n",
    "\n",
    "- $X_2$: normal distribution with $\\mu=1.3$ and $\\sigma=0.1$\n",
    "\n",
    "- $X_3$: t-distribution with location parameter $0.8$ and scale parameter $0.3$ and with 5 degrees of freedom\n",
    "\n",
    "carry out a Monte Carlo simulation with 1000 runs. Repeat this simulation 100 times using a for-loop. Calculate and store the estimates $y$ for each simulation run and compare the different outcomes."
   ]
  },
  {
   "cell_type": "code",
   "execution_count": 2,
   "metadata": {
    "collapsed": false,
    "slideshow": {
     "slide_type": "subslide"
    }
   },
   "outputs": [],
   "source": [
    "# solution for exercise 5.1\n",
    "\n",
    "from scipy.stats import gamma, norm, t\n",
    "rst = random.RandomState(1)\n",
    "\n",
    "# distribution of input quantities\n",
    "x1dist = gamma(1.5)\n",
    "x2dist = norm(loc=1.3, scale=0.1)\n",
    "x3dist = t(loc=0.8, scale=0.3, df=5)\n",
    "\n",
    "# measurement model\n",
    "model = lambda X1,X2,X3: X1 + X2 + X3\n",
    "\n",
    "MCruns = 1000\n",
    "repeats= 100\n",
    "\n",
    "means = zeros(repeats)\n",
    "\n",
    "# repeat Monte Carlo runs\n",
    "for k in range(repeats):\n",
    "    x1 = x1dist.rvs(MCruns)\n",
    "    x2 = x2dist.rvs(MCruns)\n",
    "    x3 = x3dist.rvs(MCruns)\n",
    "    Y = model(x1,x2,x3)\n",
    "    means[k] = Y.mean()\n",
    "    "
   ]
  },
  {
   "cell_type": "code",
   "execution_count": 3,
   "metadata": {
    "collapsed": false,
    "slideshow": {
     "slide_type": "subslide"
    }
   },
   "outputs": [
    {
     "data": {
      "image/png": "[encoded data removed]",
      "text/plain": [
       "<matplotlib.figure.Figure at 0x10cc03a20>"
      ]
     },
     "metadata": {},
     "output_type": "display_data"
    }
   ],
   "source": [
    "hist(means, bins = 20)\n",
    "title(\"Mean values of 100 repeated Monte Carlo runs (with 1000 trials each)\");"
   ]
  },
  {
   "cell_type": "markdown",
   "metadata": {
    "slideshow": {
     "slide_type": "slide"
    }
   },
   "source": [
    "## Adaptive Monte Carlo method"
   ]
  },
  {
   "cell_type": "markdown",
   "metadata": {
    "slideshow": {
     "slide_type": "subslide"
    }
   },
   "source": [
    "The randomness of the Monte Carlo outcomes cannot be avoided. However, the variation between runs decreases with an increasing number of Monte Carlo simulations. The aim is thus to adaptively decide on the number of Monte Carlo trials based on\n",
    "\n",
    "* a prescribed numerical tolerance\n",
    "\n",
    "* at a chosen level of confidence"
   ]
  },
  {
   "cell_type": "markdown",
   "metadata": {
    "slideshow": {
     "slide_type": "subslide"
    }
   },
   "source": [
    "#### Stein's method\n",
    "\n",
    "From Wübbeler et al. (doi: http://iopscience.iop.org/0026-1394/47/3/023):\n",
    "\n",
    "Let $y_1, y_2, \\ldots$ be a sequence of values drawn independently from a Gaussian distribution with unknown expecation $\\mu$ and variance $\\sigma^2$. \n",
    "The aim is to determine a rule that terminates this sequence such that $\\bar{y}(h)$, being the average of the sequence terminated at $h$, satisfies that the interval\n",
    "$$ [\\bar{y}(h)-\\delta, \\bar{y}(h)+\\delta] $$\n",
    "is a confidence interval for $\\mu$ at confidence level $1-\\alpha$."
   ]
  },
  {
   "cell_type": "markdown",
   "metadata": {
    "slideshow": {
     "slide_type": "subslide"
    }
   },
   "source": [
    "1) Draw an initial number $h_1>1$ of samples and calculate\n",
    "$$ s_y^2(h_1) = \\frac{1}{h-1} \\sum_{i=1}^{h_1} (y_i - \\bar{y}(h_1))^2 $$\n",
    "\n",
    "2) Calculate the number $h_2$ of additional values as\n",
    "$$ h_2 = \\max \\left( floor\\left({\\frac{s_y^2(h_1)(t_{h_1-1,1-\\alpha/2})^2}{\\delta^2}}\\right)-h_1+1,0 \\right) $$"
   ]
  },
  {
   "cell_type": "markdown",
   "metadata": {
    "slideshow": {
     "slide_type": "subslide"
    }
   },
   "source": [
    "#### Application to Monte Carlo simulations\n",
    "\n",
    "We consider Monte Carlo simulations block-wise. That is, we choose a modest number of Monte Carlo trials, e.g. 1000, and consider a Monte Carlo simulation with that number of trials as one block. Each block has a block mean, standard deviation (uncertainty), etc. "
   ]
  },
  {
   "cell_type": "markdown",
   "metadata": {
    "slideshow": {
     "slide_type": "fragment"
    }
   },
   "source": [
    "With $h_1$ being the number of such blocks and $y_1,y_2,\\ldots$ a selected outcome of each block (e.g. the mean, variance, interval boundaries, etc.) Stein's method can be applied to calculate the additionally required number of blocks."
   ]
  },
  {
   "cell_type": "markdown",
   "metadata": {
    "slideshow": {
     "slide_type": "subslide"
    }
   },
   "source": [
    "**Reminder**\n",
    "The deviation $\\delta$ can be calculated from a prescribed number of significant digits as follows:\n",
    "\n",
    "- Write the number of interest in the form $ z = c \\times 10^l$ with $c$ having the chosen number of digits.\n",
    "\n",
    "- Calculate the numerical tolerance as $\\delta = \\frac{1}{2} 10^l$"
   ]
  },
  {
   "cell_type": "markdown",
   "metadata": {
    "slideshow": {
     "slide_type": "subslide"
    }
   },
   "source": [
    "### Exercise 5.2\n",
    "\n",
    "Repeat Exercise 5.1 using Stein's method, starting with an initial number of $h_1 = 10$ repetitions. Calculate $h_2$ such that a numerical tolerance of 2 digits is achieved with a 95% level of confidence. "
   ]
  },
  {
   "cell_type": "code",
   "execution_count": 4,
   "metadata": {
    "collapsed": false,
    "slideshow": {
     "slide_type": "subslide"
    }
   },
   "outputs": [],
   "source": [
    "# solution for exercise 5.2\n",
    "\n",
    "from scipy.stats import gamma, norm, t\n",
    "rst = random.RandomState(1)\n",
    "\n",
    "# distributions of input quantities\n",
    "x1dist = gamma(1.5)\n",
    "x2dist = norm(loc=1.3, scale=0.1)\n",
    "x3dist = t(loc=0.8, scale=0.3, df=5)\n",
    "\n",
    "# measurement model\n",
    "model = lambda X1,X2,X3: X1 + X2 + X3\n",
    "\n",
    "# Monte Carlo block size\n",
    "MCruns = 1000\n",
    "# number of initial Monte Carlo blocks\n",
    "h1 = 10\n",
    "\n",
    "means = zeros(h1)\n",
    "delta = 0.05\n",
    "alpha = 0.05\n",
    "\n",
    "# repeated Monte Carlo method\n",
    "for k in range(h1):\n",
    "    x1 = x1dist.rvs(MCruns)\n",
    "    x2 = x2dist.rvs(MCruns)\n",
    "    x3 = x3dist.rvs(MCruns)\n",
    "    Y = model(x1,x2,x3)\n",
    "    means[k] = Y.mean()\n"
   ]
  },
  {
   "cell_type": "code",
   "execution_count": 5,
   "metadata": {
    "collapsed": false,
    "slideshow": {
     "slide_type": "subslide"
    }
   },
   "outputs": [
    {
     "name": "stdout",
     "output_type": "stream",
     "text": [
      "3.58931135719\n"
     ]
    }
   ],
   "source": [
    "# calculate additional number of Monte Carlo blocks\n",
    "h2 = int(max( floor(means.var()*t(h1-1).ppf(1-alpha/2)**2/delta**2) - h1+1, 0 ))\n",
    "\n",
    "means = np.r_[means, zeros(h2)]\n",
    "\n",
    "# repeated Monte Carlo method\n",
    "for k in range(h1,h1+h2):\n",
    "    x1 = x1dist.rvs(MCruns)\n",
    "    x2 = x2dist.rvs(MCruns)\n",
    "    x3 = x3dist.rvs(MCruns)\n",
    "    Y = model(x1,x2,x3)\n",
    "    means[k] = Y.mean()\n",
    "    \n",
    "y = means.mean()\n",
    "    \n",
    "print(y)"
   ]
  },
  {
   "cell_type": "markdown",
   "metadata": {},
   "source": [
    "The confidence level for the achieved accuracy is a frequentist measure. Therefore, in order to verify the achieved confidence, we repeat the adaptive Monte Carlo method and assess the long run success."
   ]
  },
  {
   "cell_type": "code",
   "execution_count": 6,
   "metadata": {
    "collapsed": false,
    "slideshow": {
     "slide_type": "skip"
    }
   },
   "outputs": [],
   "source": [
    "# validate the level of confidence\n",
    "reruns = 1000\n",
    "\n",
    "y = zeros(reruns)\n",
    "\n",
    "MCruns = 1000\n",
    "h1 = 10\n",
    "\n",
    "for r in range(reruns):\n",
    "\n",
    "    means = zeros(h1)\n",
    "    delta = 0.05\n",
    "    alpha = 0.05\n",
    "\n",
    "    for k in range(h1):\n",
    "        x1 = x1dist.rvs(MCruns)\n",
    "        x2 = x2dist.rvs(MCruns)\n",
    "        x3 = x3dist.rvs(MCruns)\n",
    "        Y = model(x1,x2,x3)\n",
    "        means[k] = Y.mean()\n",
    "\n",
    "    h2 = int(max( floor(means.var()*t(h1-1).ppf(1-alpha/2)**2/delta**2) - h1+1, 0 ))\n",
    "\n",
    "    means = np.r_[means, zeros(h2)]\n",
    "    for k in range(h1,h1+h2):\n",
    "        x1 = x1dist.rvs(MCruns)\n",
    "        x2 = x2dist.rvs(MCruns)\n",
    "        x3 = x3dist.rvs(MCruns)\n",
    "        Y = model(x1,x2,x3)\n",
    "        means[k] = Y.mean()\n",
    "        \n",
    "    y[r] = means.mean()\n",
    "    \n"
   ]
  },
  {
   "cell_type": "code",
   "execution_count": 7,
   "metadata": {
    "collapsed": false,
    "slideshow": {
     "slide_type": "subslide"
    }
   },
   "outputs": [
    {
     "data": {
      "image/png": "[encoded data removed]",
      "text/plain": [
       "<matplotlib.figure.Figure at 0x111397710>"
      ]
     },
     "metadata": {},
     "output_type": "display_data"
    }
   ],
   "source": [
    "hist(y, bins = 100)\n",
    "axvline(y.mean()-delta, color=\"k\")\n",
    "axvline(y.mean()+delta, color=\"k\")\n",
    "title(\"Mean values of repeated adaptive Monte Carlo method\");"
   ]
  },
  {
   "cell_type": "markdown",
   "metadata": {},
   "source": [
    "The results of the adaptive Monte Carlo method are still random. The spread of calculated mean values, however, is below the chosen tolerance with the prescribed level of confidence."
   ]
  }
 ],
 "metadata": {
  "kernelspec": {
   "display_name": "Python 3",
   "language": "python",
   "name": "python3"
  },
  "language_info": {
   "codemirror_mode": {
    "name": "ipython",
    "version": 3
   },
   "file_extension": ".py",
   "mimetype": "text/x-python",
   "name": "python",
   "nbconvert_exporter": "python",
   "pygments_lexer": "ipython3",
   "version": "3.5.1"
  }
 },
 "nbformat": 4,
 "nbformat_minor": 0
}
